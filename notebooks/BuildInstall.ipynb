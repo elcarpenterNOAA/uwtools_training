{
 "cells": [
  {
   "attachments": {},
   "cell_type": "markdown",
   "id": "ff173512-5f06-444f-a9ea-3d7ccc91b419",
   "metadata": {},
   "source": [
    "# Getting Started\n",
    "\n",
    "The training will run a simplified cycled data assimilation workflow using **FV3** and **GSI** from the **rrfs-workflow repository**. These executables have been built on NOAA's RDHPCS **Hera** platform and are available for common use. There is no need to repeat the build process for the purposes of this tutorial.\n",
    "\n",
    "For posterity, the build process is documented at the end of this page.  "
   ]
  },
  {
   "cell_type": "markdown",
   "id": "8cad3c93-8406-4763-a4ee-37463c9dfc4a",
   "metadata": {},
   "source": [
    "# Getting the tutorial code \n",
    "\n",
    "The tutorial repository includes several extras for running the examples used in the live demos. To obtain an interactive copy on Hera, do the following in an area on scratch disk where you have plenty of space:"
   ]
  },
  {
   "cell_type": "code",
   "execution_count": null,
   "id": "6d075e7f-c35e-4c8c-8dd4-b6daa588a539",
   "metadata": {},
   "outputs": [],
   "source": [
    "%%bash\n",
    "git clone https://github.com/christinaholtNOAA/uwtools_training\n",
    "cd uwtools_training"
   ]
  },
  {
   "cell_type": "markdown",
   "id": "54f56355-854d-4e0c-9998-1eff50be2e56",
   "metadata": {},
   "source": [
    "# Using the pre-installed conda environment\n",
    "\n",
    "The following procedure will need to be run at the beginning of any new shell environment. If the user environment already has a conda environment loaded in .rc file, it will likely cause conflicts and will need to be unloaded prior to opening a new bash session.\n"
   ]
  },
  {
   "cell_type": "code",
   "execution_count": null,
   "id": "929bbf2f-b99c-4345-873e-198a1cad6088",
   "metadata": {},
   "outputs": [],
   "source": [
    "%%bash\n",
    "source /scratch3/BMC/wrfruc/cholt/conda/etc/profile.d/conda.sh\n",
    "conda activate\n",
    "conda activate DEV-uwtools # This will need to change before the tutorial!\n",
    "dvc pull"
   ]
  },
  {
   "cell_type": "markdown",
   "id": "e10413dc-1314-4850-8ff8-7495cb8ed682",
   "metadata": {},
   "source": [
    "The `uwtools_training` repository is `dvc` enabled (__[DVC docs](https://dvc.org/doc)__), which means that it will pull in the `rrfs-workflow` fix files, input data for the case study we will run, and the pre-built executables when you run these commands on Hera. The process may take a couple of minutes to complete.  "
   ]
  },
  {
   "cell_type": "markdown",
   "id": "f4e2e69f-ce0a-4f89-b909-e914f5ed8263",
   "metadata": {},
   "source": [
    "# Build the code (no need to run these commands)\n",
    "\n",
    "Note: The code in the provided branch originates from the main branch of the authoritative repository as of Friday, August 8, 2025. The module file for Hera has been modified such that the scientific integrity of the output cannot be guaranteed, but it should work for demonstration purposes. "
   ]
  },
  {
   "cell_type": "code",
   "execution_count": null,
   "id": "1e94b5ab-8715-4745-a63b-ab0db9074b50",
   "metadata": {},
   "outputs": [],
   "source": [
    "%%bash\n",
    "git clone -b build_hera_main https://github.com/christinaholtNOAA/rrfs-workflow\n",
    "cd rrfs-workflow/sorc\n",
    "./manage_externals/checkout_externals\n",
    "./app_build.sh -p=hera -v"
   ]
  }
 ],
 "metadata": {
  "kernelspec": {
   "display_name": "Python 3 (ipykernel)",
   "language": "python",
   "name": "python3"
  },
  "language_info": {
   "codemirror_mode": {
    "name": "ipython",
    "version": 3
   },
   "file_extension": ".py",
   "mimetype": "text/x-python",
   "name": "python",
   "nbconvert_exporter": "python",
   "pygments_lexer": "ipython3",
   "version": "3.9.23"
  }
 },
 "nbformat": 4,
 "nbformat_minor": 5
}
